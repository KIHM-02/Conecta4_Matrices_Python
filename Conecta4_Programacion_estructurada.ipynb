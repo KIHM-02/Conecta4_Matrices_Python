{
 "cells": [
  {
   "cell_type": "code",
   "execution_count": 1,
   "id": "6131829a-8d01-4be5-ba6d-135d49e05806",
   "metadata": {},
   "outputs": [],
   "source": [
    "def crear_tablero(filas, columnas):\n",
    "    \"\"\" Allow to create a game board especified by the rows and columns\n",
    "    Params:\n",
    "        filas    -- Integer that represents the game board's rows\n",
    "        columnas -- Integer that represents the game board's columns\n",
    "\n",
    "    Returns:\n",
    "        tablero -- The game board\n",
    "    \"\"\"\n",
    "    board = [None]*filas\n",
    "\n",
    "    for row in range(filas):\n",
    "        board[row] = ['*']*columnas\n",
    "           \n",
    "    return board"
   ]
  },
  {
   "cell_type": "code",
   "execution_count": 2,
   "id": "e1c568cd-32ed-4a5b-87e3-a87e1fb228a0",
   "metadata": {},
   "outputs": [],
   "source": [
    "def mostrar_tablero(tablero):\n",
    "    \"\"\" Display the game board in screen \"\"\"\n",
    "    #Print header\n",
    "    for number in range(len(tablero[0])):\n",
    "        print(number, end = '  ')\n",
    "    \n",
    "    #Print rows\n",
    "    for row in tablero:\n",
    "        print()\n",
    "        for col in row:\n",
    "            print(col, end = '  ')\n",
    "\n",
    "    print(\"\\n\")\n",
    "        "
   ]
  },
  {
   "cell_type": "code",
   "execution_count": 3,
   "id": "256193c2-9686-4919-9103-f7c0ffaa4bb0",
   "metadata": {},
   "outputs": [],
   "source": [
    "def introducir_ficha(tablero, columna, ficha):\n",
    "    \"\"\" Adds a token according to the player in the selected column\"\"\"\n",
    "    #Validates if  the column is in range\n",
    "    if columna > (len(tablero[0])-1) or columna < 0:\n",
    "        print(\"ERROR: Numero de columna fuera de rango\")\n",
    "        return tablero\n",
    "    \n",
    "    longitud = len(tablero)-1\n",
    "    busy = False\n",
    "    row = 0\n",
    "\n",
    "    #print(\"la longitud es: \", longitud)\n",
    "       \n",
    "    while busy is False:\n",
    "        if tablero[row][columna] == '*' and row != longitud:\n",
    "            #print(f'Fila = {row} y la columna es {columna}')\n",
    "            if tablero[row + 1][columna] == '*':\n",
    "                row += 1\n",
    "            else:\n",
    "                tablero[row][columna] = ficha\n",
    "                busy = True\n",
    "        else:\n",
    "            if tablero[row][columna] == '*':\n",
    "                tablero[row][columna] = ficha\n",
    "                #print(\"Ficha colocada\")\n",
    "            #else:\n",
    "            #   print(\"Esta ocupada la columna\")\n",
    "            busy = True  #Allows to exit from the loop\n",
    "\n",
    "    return tablero\n",
    "            "
   ]
  },
  {
   "cell_type": "code",
   "execution_count": 24,
   "id": "9113c0ed-c9b9-44fa-b77a-39fb534fcefd",
   "metadata": {},
   "outputs": [],
   "source": [
    "def revisar_filas(tablero):\n",
    "    \"\"\" Allows to check the winner in the game in horizontal way \"\"\"\n",
    "    contador = 0\n",
    "    \n",
    "    for row in tablero:\n",
    "        ficha_previa = row[0]\n",
    "        for columna in range(1, len(row)):\n",
    "            if ficha_previa == row[columna] and row[columna] != '*':\n",
    "                contador += 1\n",
    "            else:\n",
    "                contador = 0\n",
    "\n",
    "            if contador == 3:\n",
    "                return (row[columna])\n",
    "                \n",
    "            ficha_previa = row[columna]\n",
    "        \n",
    "    #print(\"No hubo ganador\")\n",
    "    return False\n"
   ]
  },
  {
   "cell_type": "code",
   "execution_count": 16,
   "id": "9cf898a8-56f6-4282-ada0-d270743b6215",
   "metadata": {},
   "outputs": [],
   "source": [
    "def revisar_columnas(tablero):\n",
    "    transform_dashboard = list(zip(*tablero))\n",
    "    winner = revisar_filas(transform_dashboard)\n",
    "    return winner"
   ]
  },
  {
   "cell_type": "code",
   "execution_count": 7,
   "id": "a220fd0c-b4cf-4198-87a4-9e68bd969207",
   "metadata": {},
   "outputs": [],
   "source": [
    "def analyze_diagonals(tablero):\n",
    "    \"\"\" Analyze both diagonals \"\"\"\n",
    "\n",
    "    rows_len = len(tablero)\n",
    "    columns_len = len(tablero[0])\n",
    "\n",
    "    for row in range(rows_len):\n",
    "        for column in range(columns_len):\n",
    "            \n",
    "                #Check if the row can count 3 more tokens from where it is now \\\n",
    "                if (row + 3 < rows_len) and (column + 3 < columns_len):\n",
    "                    consecutives = [tablero[row + i][column + i] for i in range(4)]\n",
    "                    if len(set(consecutives)) == 1 and consecutives[0] != '*':\n",
    "                        return consecutives[0]\n",
    "\n",
    "                #Check again the last thing, but now for /\n",
    "                if (row + 3 < rows_len) and (column - 3 >= 0):\n",
    "                    consecutives = [tablero[row + i][column - i] for i in range(4)]\n",
    "                    if len(set(consecutives)) == 1 and consecutives[0] != '*':\n",
    "                        return consecutives[0]\n",
    "    \n",
    "    #If there's any winner, it return False\n",
    "    return False"
   ]
  },
  {
   "cell_type": "code",
   "execution_count": 8,
   "id": "ed53accc-7c57-43c7-8987-408cd597669c",
   "metadata": {},
   "outputs": [],
   "source": [
    "def check_winner(game_board):\n",
    "    \"\"\" Analyze who is the winner in turns \"\"\"\n",
    "    \n",
    "    for winner in (revisar_filas(game_board), revisar_columnas(game_board), analyze_diagonals(game_board)):\n",
    "        if winner:  # Más Pythonic\n",
    "            return winner\n",
    "    \n",
    "    return False\n"
   ]
  },
  {
   "cell_type": "code",
   "execution_count": 9,
   "id": "dcdc1430-89a7-402d-8b42-cc4a9bf6e0dc",
   "metadata": {},
   "outputs": [],
   "source": [
    "def __game_board__():\n",
    "    print(\"Haz un tablero de juego!\")\n",
    "    rows = 0\n",
    "    cols = 0\n",
    "            \n",
    "    while rows < 4 or cols < 4:\n",
    "        rows_validation = str(input(\"Ingresa las filas --> \"))\n",
    "        cols_validation = str(input(\"Ingresa las columnas --> \"))\n",
    "\n",
    "        if len(rows_validation) == 0 or len(cols_validation) == 0:\n",
    "            print(\"No puede estar vacios los campos\")\n",
    "        else:\n",
    "            rows = int(rows_validation)\n",
    "            cols = int(cols_validation)\n",
    "            \n",
    "            if rows < 4 or cols < 4:\n",
    "                print(\"No puede haber menos de 4 filas ni 4 columnas\")\n",
    "                \n",
    "    game_board = crear_tablero(rows, cols)\n",
    "    print(\"\\n\\n------Tablero creado.....\\n\\n\")\n",
    "    mostrar_tablero(game_board)\n",
    "    \n",
    "    return game_board"
   ]
  },
  {
   "cell_type": "code",
   "execution_count": 10,
   "id": "04ebde38-c267-49ae-acfc-8ec0b6306b62",
   "metadata": {},
   "outputs": [],
   "source": [
    "def __select_token__():\n",
    "    print(\"Escoge un caracter!\")\n",
    "    \n",
    "    token1 = str(input(\"Jugador 1, selecciona un caracter de tu teclado --> \"))\n",
    "    token2 = str(input(\"Jugador 2, selecciona un caracter de tu teclado --> \"))\n",
    "    return token1, token2"
   ]
  },
  {
   "cell_type": "code",
   "execution_count": 22,
   "id": "d3be47d5-568c-45f4-b72c-b8f98ca777b0",
   "metadata": {},
   "outputs": [],
   "source": [
    "def validate_strings(string):\n",
    "    if len(string) == 0:\n",
    "        return True\n",
    "    return False\n",
    "\n",
    "def es_empate(tablero):\n",
    "    \"\"\" Verify if the game board is full \"\"\"\n",
    "    for row in tablero:\n",
    "        if '*' in row:  \n",
    "            return False\n",
    "    return True \n",
    "\n",
    "\n",
    "def __play_game__(player1, player2, game_board):\n",
    "    \"\"\" Allows to start the game  \"\"\"\n",
    "    \n",
    "    winner = False\n",
    "    player = 1\n",
    "    \n",
    "    while not winner:\n",
    "        if player == 1:\n",
    "            column = str(input(\"Jugador 1: Columna --> \"))\n",
    "\n",
    "            if validate_strings(column):\n",
    "                print(\"Ingresa un valor valido, no puede quedar vacio el campo\")\n",
    "            else:\n",
    "                column = int(column)\n",
    "                game_board = introducir_ficha(game_board, column, player1)\n",
    "                mostrar_tablero(game_board)\n",
    "                player = 2\n",
    "        else:\n",
    "            column = str(input(\"Jugador 2: Columna --> \"))\n",
    "\n",
    "            if validate_strings(column):\n",
    "                print(\"Ingresa un valor valido, no puede quedar vacio el campo\")\n",
    "            else:\n",
    "                column = int(column)\n",
    "                game_board = introducir_ficha(game_board, column, player2)\n",
    "                mostrar_tablero(game_board)\n",
    "                player = 1\n",
    "\n",
    "        # Verify if there's a winner\n",
    "        winner = check_winner(game_board)\n",
    "\n",
    "        if winner:\n",
    "            print(f\"¡El ganador es: {winner}!\")\n",
    "\n",
    "        # Verificar si hay empate\n",
    "        if es_empate(game_board):\n",
    "            print(\"\\n¡El juego terminó en empate! 😐\")\n",
    "            winner = True\n"
   ]
  },
  {
   "cell_type": "code",
   "execution_count": 25,
   "id": "168019bd-dd9c-4198-8d45-bb64de102052",
   "metadata": {},
   "outputs": [],
   "source": [
    "def main():\n",
    "    title = r\"\"\" \n",
    "\n",
    " ______     ______     __   __     __   __     ______     ______     ______      ______   ______     __  __     ______    \n",
    "/\\  ___\\   /\\  __ \\   /\\ \"-.\\ \\   /\\ \"-.\\ \\   /\\  ___\\   /\\  ___\\   /\\__  _\\    /\\  ___\\ /\\  __ \\   /\\ \\/\\ \\   /\\  == \\   \n",
    "\\ \\ \\____  \\ \\ \\/\\ \\  \\ \\ \\-.  \\  \\ \\ \\-.  \\  \\ \\  __\\   \\ \\ \\____  \\/_/\\ \\/    \\ \\  __\\ \\ \\ \\/\\ \\  \\ \\ \\_\\ \\  \\ \\  __<   \n",
    " \\ \\_____\\  \\ \\_____\\  \\ \\_\\\\\"\\_\\  \\ \\_\\\\\"\\_\\  \\ \\_____\\  \\ \\_____\\    \\ \\_\\     \\ \\_\\    \\ \\_____\\  \\ \\_____\\  \\ \\_\\ \\_\\ \n",
    "  \\/_____/   \\/_____/   \\/_/ \\/_/   \\/_/ \\/_/   \\/_____/   \\/_____/     \\/_/      \\/_/     \\/_____/   \\/_____/   \\/_/ /_/ \n",
    "                                                                                                                          \n",
    "A game designed by Kevin ALIAS ZephyR\n",
    "\n",
    "This game requires a maximum of 2 people to play, each one will choose a token to place on the game board.\n",
    "\"\"\"\n",
    "\n",
    "    menu = \"\"\" \n",
    "\n",
    "1) Choose your tokens\n",
    "2) Stablish a game board\n",
    "3) Start game\n",
    "4) Exit the game\n",
    "\n",
    "\"\"\"\n",
    "    option = 0\n",
    "    game_board = []\n",
    "    player1 = \" \"\n",
    "    player2 = \" \"\n",
    "    exit = 4\n",
    "    print(title)\n",
    "\n",
    "    while option != exit:\n",
    "        print(menu)\n",
    "        option = int(input(\"Opcion --> \"))\n",
    "        \n",
    "        if option == 1:\n",
    "            player1, player2 = __select_token__()\n",
    "            print(f'\\nJugador 1: {player1}\\nJugador 2: {player2}')\n",
    "            \n",
    "        elif option == 2:\n",
    "            game_board = __game_board__()\n",
    "\n",
    "        elif option == 3:\n",
    "            if validate_strings(player1) or validate_strings(player2) or len(game_board) == 0:\n",
    "                print(\"Hace falta datos para empezar a juagr, ingresa los caracteres y crea un tablero\")\n",
    "            else:\n",
    "                __play_game__(player1, player2, game_board)\n",
    "                game_board = []\n",
    "                print(\"Tablero reiniciado, para volver a jugar, crea otro tablero!\")\n",
    "        \n",
    "        elif option == exit:\n",
    "            print(\"Hasta luego!!\")\n",
    "\n",
    "        else:\n",
    "            print(\"No es una opción\")\n",
    "        \n"
   ]
  },
  {
   "cell_type": "code",
   "execution_count": 26,
   "id": "3a28931b-873f-4f21-9abc-8ac57a3c89d0",
   "metadata": {},
   "outputs": [
    {
     "name": "stdout",
     "output_type": "stream",
     "text": [
      " \n",
      "\n",
      " ______     ______     __   __     __   __     ______     ______     ______      ______   ______     __  __     ______    \n",
      "/\\  ___\\   /\\  __ \\   /\\ \"-.\\ \\   /\\ \"-.\\ \\   /\\  ___\\   /\\  ___\\   /\\__  _\\    /\\  ___\\ /\\  __ \\   /\\ \\/\\ \\   /\\  == \\   \n",
      "\\ \\ \\____  \\ \\ \\/\\ \\  \\ \\ \\-.  \\  \\ \\ \\-.  \\  \\ \\  __\\   \\ \\ \\____  \\/_/\\ \\/    \\ \\  __\\ \\ \\ \\/\\ \\  \\ \\ \\_\\ \\  \\ \\  __<   \n",
      " \\ \\_____\\  \\ \\_____\\  \\ \\_\\\\\"\\_\\  \\ \\_\\\\\"\\_\\  \\ \\_____\\  \\ \\_____\\    \\ \\_\\     \\ \\_\\    \\ \\_____\\  \\ \\_____\\  \\ \\_\\ \\_\\ \n",
      "  \\/_____/   \\/_____/   \\/_/ \\/_/   \\/_/ \\/_/   \\/_____/   \\/_____/     \\/_/      \\/_/     \\/_____/   \\/_____/   \\/_/ /_/ \n",
      "                                                                                                                          \n",
      "A game designed by Kevin ALIAS ZephyR\n",
      "\n",
      "This game requires a maximum of 2 people to play, each one will choose a token to place on the game board.\n",
      "\n",
      " \n",
      "\n",
      "1) Choose your tokens\n",
      "2) Stablish a game board\n",
      "3) Start game\n",
      "4) Exit the game\n",
      "\n",
      "\n"
     ]
    },
    {
     "name": "stdin",
     "output_type": "stream",
     "text": [
      "Opcion -->  1\n"
     ]
    },
    {
     "name": "stdout",
     "output_type": "stream",
     "text": [
      "Escoge un caracter!\n"
     ]
    },
    {
     "name": "stdin",
     "output_type": "stream",
     "text": [
      "Jugador 1, selecciona un caracter de tu teclado -->  X\n",
      "Jugador 2, selecciona un caracter de tu teclado -->  O\n"
     ]
    },
    {
     "name": "stdout",
     "output_type": "stream",
     "text": [
      "\n",
      "Jugador 1: X\n",
      "Jugador 2: O\n",
      " \n",
      "\n",
      "1) Choose your tokens\n",
      "2) Stablish a game board\n",
      "3) Start game\n",
      "4) Exit the game\n",
      "\n",
      "\n"
     ]
    },
    {
     "name": "stdin",
     "output_type": "stream",
     "text": [
      "Opcion -->  2\n"
     ]
    },
    {
     "name": "stdout",
     "output_type": "stream",
     "text": [
      "Haz un tablero de juego!\n"
     ]
    },
    {
     "name": "stdin",
     "output_type": "stream",
     "text": [
      "Ingresa las filas -->  5\n",
      "Ingresa las columnas -->  6\n"
     ]
    },
    {
     "name": "stdout",
     "output_type": "stream",
     "text": [
      "\n",
      "\n",
      "------Tablero creado.....\n",
      "\n",
      "\n",
      "0  1  2  3  4  5  \n",
      "*  *  *  *  *  *  \n",
      "*  *  *  *  *  *  \n",
      "*  *  *  *  *  *  \n",
      "*  *  *  *  *  *  \n",
      "*  *  *  *  *  *  \n",
      "\n",
      " \n",
      "\n",
      "1) Choose your tokens\n",
      "2) Stablish a game board\n",
      "3) Start game\n",
      "4) Exit the game\n",
      "\n",
      "\n"
     ]
    },
    {
     "name": "stdin",
     "output_type": "stream",
     "text": [
      "Opcion -->  3\n",
      "Jugador 1: Columna -->  0\n"
     ]
    },
    {
     "name": "stdout",
     "output_type": "stream",
     "text": [
      "0  1  2  3  4  5  \n",
      "*  *  *  *  *  *  \n",
      "*  *  *  *  *  *  \n",
      "*  *  *  *  *  *  \n",
      "*  *  *  *  *  *  \n",
      "X  *  *  *  *  *  \n",
      "\n"
     ]
    },
    {
     "name": "stdin",
     "output_type": "stream",
     "text": [
      "Jugador 2: Columna -->  1\n"
     ]
    },
    {
     "name": "stdout",
     "output_type": "stream",
     "text": [
      "0  1  2  3  4  5  \n",
      "*  *  *  *  *  *  \n",
      "*  *  *  *  *  *  \n",
      "*  *  *  *  *  *  \n",
      "*  *  *  *  *  *  \n",
      "X  O  *  *  *  *  \n",
      "\n"
     ]
    },
    {
     "name": "stdin",
     "output_type": "stream",
     "text": [
      "Jugador 1: Columna -->  0\n"
     ]
    },
    {
     "name": "stdout",
     "output_type": "stream",
     "text": [
      "0  1  2  3  4  5  \n",
      "*  *  *  *  *  *  \n",
      "*  *  *  *  *  *  \n",
      "*  *  *  *  *  *  \n",
      "X  *  *  *  *  *  \n",
      "X  O  *  *  *  *  \n",
      "\n"
     ]
    },
    {
     "name": "stdin",
     "output_type": "stream",
     "text": [
      "Jugador 2: Columna -->  1\n"
     ]
    },
    {
     "name": "stdout",
     "output_type": "stream",
     "text": [
      "0  1  2  3  4  5  \n",
      "*  *  *  *  *  *  \n",
      "*  *  *  *  *  *  \n",
      "*  *  *  *  *  *  \n",
      "X  O  *  *  *  *  \n",
      "X  O  *  *  *  *  \n",
      "\n"
     ]
    },
    {
     "name": "stdin",
     "output_type": "stream",
     "text": [
      "Jugador 1: Columna -->  0\n"
     ]
    },
    {
     "name": "stdout",
     "output_type": "stream",
     "text": [
      "0  1  2  3  4  5  \n",
      "*  *  *  *  *  *  \n",
      "*  *  *  *  *  *  \n",
      "X  *  *  *  *  *  \n",
      "X  O  *  *  *  *  \n",
      "X  O  *  *  *  *  \n",
      "\n"
     ]
    },
    {
     "name": "stdin",
     "output_type": "stream",
     "text": [
      "Jugador 2: Columna -->  1\n"
     ]
    },
    {
     "name": "stdout",
     "output_type": "stream",
     "text": [
      "0  1  2  3  4  5  \n",
      "*  *  *  *  *  *  \n",
      "*  *  *  *  *  *  \n",
      "X  O  *  *  *  *  \n",
      "X  O  *  *  *  *  \n",
      "X  O  *  *  *  *  \n",
      "\n"
     ]
    },
    {
     "name": "stdin",
     "output_type": "stream",
     "text": [
      "Jugador 1: Columna -->  0\n"
     ]
    },
    {
     "name": "stdout",
     "output_type": "stream",
     "text": [
      "0  1  2  3  4  5  \n",
      "*  *  *  *  *  *  \n",
      "X  *  *  *  *  *  \n",
      "X  O  *  *  *  *  \n",
      "X  O  *  *  *  *  \n",
      "X  O  *  *  *  *  \n",
      "\n",
      "¡El ganador es: X!\n",
      "Tablero reiniciado, para volver a jugar, crea otro tablero!\n",
      " \n",
      "\n",
      "1) Choose your tokens\n",
      "2) Stablish a game board\n",
      "3) Start game\n",
      "4) Exit the game\n",
      "\n",
      "\n"
     ]
    },
    {
     "name": "stdin",
     "output_type": "stream",
     "text": [
      "Opcion -->  2\n"
     ]
    },
    {
     "name": "stdout",
     "output_type": "stream",
     "text": [
      "Haz un tablero de juego!\n"
     ]
    },
    {
     "name": "stdin",
     "output_type": "stream",
     "text": [
      "Ingresa las filas -->  6\n",
      "Ingresa las columnas -->  5\n"
     ]
    },
    {
     "name": "stdout",
     "output_type": "stream",
     "text": [
      "\n",
      "\n",
      "------Tablero creado.....\n",
      "\n",
      "\n",
      "0  1  2  3  4  \n",
      "*  *  *  *  *  \n",
      "*  *  *  *  *  \n",
      "*  *  *  *  *  \n",
      "*  *  *  *  *  \n",
      "*  *  *  *  *  \n",
      "*  *  *  *  *  \n",
      "\n",
      " \n",
      "\n",
      "1) Choose your tokens\n",
      "2) Stablish a game board\n",
      "3) Start game\n",
      "4) Exit the game\n",
      "\n",
      "\n"
     ]
    },
    {
     "name": "stdin",
     "output_type": "stream",
     "text": [
      "Opcion -->  3\n",
      "Jugador 1: Columna -->  0\n"
     ]
    },
    {
     "name": "stdout",
     "output_type": "stream",
     "text": [
      "0  1  2  3  4  \n",
      "*  *  *  *  *  \n",
      "*  *  *  *  *  \n",
      "*  *  *  *  *  \n",
      "*  *  *  *  *  \n",
      "*  *  *  *  *  \n",
      "X  *  *  *  *  \n",
      "\n"
     ]
    },
    {
     "name": "stdin",
     "output_type": "stream",
     "text": [
      "Jugador 2: Columna -->  1\n"
     ]
    },
    {
     "name": "stdout",
     "output_type": "stream",
     "text": [
      "0  1  2  3  4  \n",
      "*  *  *  *  *  \n",
      "*  *  *  *  *  \n",
      "*  *  *  *  *  \n",
      "*  *  *  *  *  \n",
      "*  *  *  *  *  \n",
      "X  O  *  *  *  \n",
      "\n"
     ]
    },
    {
     "name": "stdin",
     "output_type": "stream",
     "text": [
      "Jugador 1: Columna -->  0\n"
     ]
    },
    {
     "name": "stdout",
     "output_type": "stream",
     "text": [
      "0  1  2  3  4  \n",
      "*  *  *  *  *  \n",
      "*  *  *  *  *  \n",
      "*  *  *  *  *  \n",
      "*  *  *  *  *  \n",
      "X  *  *  *  *  \n",
      "X  O  *  *  *  \n",
      "\n"
     ]
    },
    {
     "name": "stdin",
     "output_type": "stream",
     "text": [
      "Jugador 2: Columna -->  2\n"
     ]
    },
    {
     "name": "stdout",
     "output_type": "stream",
     "text": [
      "0  1  2  3  4  \n",
      "*  *  *  *  *  \n",
      "*  *  *  *  *  \n",
      "*  *  *  *  *  \n",
      "*  *  *  *  *  \n",
      "X  *  *  *  *  \n",
      "X  O  O  *  *  \n",
      "\n"
     ]
    },
    {
     "name": "stdin",
     "output_type": "stream",
     "text": [
      "Jugador 1: Columna -->  3\n"
     ]
    },
    {
     "name": "stdout",
     "output_type": "stream",
     "text": [
      "0  1  2  3  4  \n",
      "*  *  *  *  *  \n",
      "*  *  *  *  *  \n",
      "*  *  *  *  *  \n",
      "*  *  *  *  *  \n",
      "X  *  *  *  *  \n",
      "X  O  O  X  *  \n",
      "\n"
     ]
    },
    {
     "name": "stdin",
     "output_type": "stream",
     "text": [
      "Jugador 2: Columna -->  4\n"
     ]
    },
    {
     "name": "stdout",
     "output_type": "stream",
     "text": [
      "0  1  2  3  4  \n",
      "*  *  *  *  *  \n",
      "*  *  *  *  *  \n",
      "*  *  *  *  *  \n",
      "*  *  *  *  *  \n",
      "X  *  *  *  *  \n",
      "X  O  O  X  O  \n",
      "\n"
     ]
    },
    {
     "name": "stdin",
     "output_type": "stream",
     "text": [
      "Jugador 1: Columna -->  1\n"
     ]
    },
    {
     "name": "stdout",
     "output_type": "stream",
     "text": [
      "0  1  2  3  4  \n",
      "*  *  *  *  *  \n",
      "*  *  *  *  *  \n",
      "*  *  *  *  *  \n",
      "*  *  *  *  *  \n",
      "X  X  *  *  *  \n",
      "X  O  O  X  O  \n",
      "\n"
     ]
    },
    {
     "name": "stdin",
     "output_type": "stream",
     "text": [
      "Jugador 2: Columna -->  2\n"
     ]
    },
    {
     "name": "stdout",
     "output_type": "stream",
     "text": [
      "0  1  2  3  4  \n",
      "*  *  *  *  *  \n",
      "*  *  *  *  *  \n",
      "*  *  *  *  *  \n",
      "*  *  *  *  *  \n",
      "X  X  O  *  *  \n",
      "X  O  O  X  O  \n",
      "\n"
     ]
    },
    {
     "name": "stdin",
     "output_type": "stream",
     "text": [
      "Jugador 1: Columna -->  4\n"
     ]
    },
    {
     "name": "stdout",
     "output_type": "stream",
     "text": [
      "0  1  2  3  4  \n",
      "*  *  *  *  *  \n",
      "*  *  *  *  *  \n",
      "*  *  *  *  *  \n",
      "*  *  *  *  *  \n",
      "X  X  O  *  X  \n",
      "X  O  O  X  O  \n",
      "\n"
     ]
    },
    {
     "name": "stdin",
     "output_type": "stream",
     "text": [
      "Jugador 2: Columna -->  5\n"
     ]
    },
    {
     "name": "stdout",
     "output_type": "stream",
     "text": [
      "ERROR: Numero de columna fuera de rango\n",
      "0  1  2  3  4  \n",
      "*  *  *  *  *  \n",
      "*  *  *  *  *  \n",
      "*  *  *  *  *  \n",
      "*  *  *  *  *  \n",
      "X  X  O  *  X  \n",
      "X  O  O  X  O  \n",
      "\n"
     ]
    },
    {
     "name": "stdin",
     "output_type": "stream",
     "text": [
      "Jugador 1: Columna -->  3\n"
     ]
    },
    {
     "name": "stdout",
     "output_type": "stream",
     "text": [
      "0  1  2  3  4  \n",
      "*  *  *  *  *  \n",
      "*  *  *  *  *  \n",
      "*  *  *  *  *  \n",
      "*  *  *  *  *  \n",
      "X  X  O  X  X  \n",
      "X  O  O  X  O  \n",
      "\n"
     ]
    },
    {
     "name": "stdin",
     "output_type": "stream",
     "text": [
      "Jugador 2: Columna -->  0\n"
     ]
    },
    {
     "name": "stdout",
     "output_type": "stream",
     "text": [
      "0  1  2  3  4  \n",
      "*  *  *  *  *  \n",
      "*  *  *  *  *  \n",
      "*  *  *  *  *  \n",
      "O  *  *  *  *  \n",
      "X  X  O  X  X  \n",
      "X  O  O  X  O  \n",
      "\n"
     ]
    },
    {
     "name": "stdin",
     "output_type": "stream",
     "text": [
      "Jugador 1: Columna -->  1\n"
     ]
    },
    {
     "name": "stdout",
     "output_type": "stream",
     "text": [
      "0  1  2  3  4  \n",
      "*  *  *  *  *  \n",
      "*  *  *  *  *  \n",
      "*  *  *  *  *  \n",
      "O  X  *  *  *  \n",
      "X  X  O  X  X  \n",
      "X  O  O  X  O  \n",
      "\n"
     ]
    },
    {
     "name": "stdin",
     "output_type": "stream",
     "text": [
      "Jugador 2: Columna -->  2\n"
     ]
    },
    {
     "name": "stdout",
     "output_type": "stream",
     "text": [
      "0  1  2  3  4  \n",
      "*  *  *  *  *  \n",
      "*  *  *  *  *  \n",
      "*  *  *  *  *  \n",
      "O  X  O  *  *  \n",
      "X  X  O  X  X  \n",
      "X  O  O  X  O  \n",
      "\n"
     ]
    },
    {
     "name": "stdin",
     "output_type": "stream",
     "text": [
      "Jugador 1: Columna -->  3\n"
     ]
    },
    {
     "name": "stdout",
     "output_type": "stream",
     "text": [
      "0  1  2  3  4  \n",
      "*  *  *  *  *  \n",
      "*  *  *  *  *  \n",
      "*  *  *  *  *  \n",
      "O  X  O  X  *  \n",
      "X  X  O  X  X  \n",
      "X  O  O  X  O  \n",
      "\n"
     ]
    },
    {
     "name": "stdin",
     "output_type": "stream",
     "text": [
      "Jugador 2: Columna -->  4\n"
     ]
    },
    {
     "name": "stdout",
     "output_type": "stream",
     "text": [
      "0  1  2  3  4  \n",
      "*  *  *  *  *  \n",
      "*  *  *  *  *  \n",
      "*  *  *  *  *  \n",
      "O  X  O  X  O  \n",
      "X  X  O  X  X  \n",
      "X  O  O  X  O  \n",
      "\n"
     ]
    },
    {
     "name": "stdin",
     "output_type": "stream",
     "text": [
      "Jugador 1: Columna -->  0\n"
     ]
    },
    {
     "name": "stdout",
     "output_type": "stream",
     "text": [
      "0  1  2  3  4  \n",
      "*  *  *  *  *  \n",
      "*  *  *  *  *  \n",
      "X  *  *  *  *  \n",
      "O  X  O  X  O  \n",
      "X  X  O  X  X  \n",
      "X  O  O  X  O  \n",
      "\n"
     ]
    },
    {
     "name": "stdin",
     "output_type": "stream",
     "text": [
      "Jugador 2: Columna -->  1\n"
     ]
    },
    {
     "name": "stdout",
     "output_type": "stream",
     "text": [
      "0  1  2  3  4  \n",
      "*  *  *  *  *  \n",
      "*  *  *  *  *  \n",
      "X  O  *  *  *  \n",
      "O  X  O  X  O  \n",
      "X  X  O  X  X  \n",
      "X  O  O  X  O  \n",
      "\n"
     ]
    },
    {
     "name": "stdin",
     "output_type": "stream",
     "text": [
      "Jugador 1: Columna -->  2\n"
     ]
    },
    {
     "name": "stdout",
     "output_type": "stream",
     "text": [
      "0  1  2  3  4  \n",
      "*  *  *  *  *  \n",
      "*  *  *  *  *  \n",
      "X  O  X  *  *  \n",
      "O  X  O  X  O  \n",
      "X  X  O  X  X  \n",
      "X  O  O  X  O  \n",
      "\n"
     ]
    },
    {
     "name": "stdin",
     "output_type": "stream",
     "text": [
      "Jugador 2: Columna -->  3\n"
     ]
    },
    {
     "name": "stdout",
     "output_type": "stream",
     "text": [
      "0  1  2  3  4  \n",
      "*  *  *  *  *  \n",
      "*  *  *  *  *  \n",
      "X  O  X  O  *  \n",
      "O  X  O  X  O  \n",
      "X  X  O  X  X  \n",
      "X  O  O  X  O  \n",
      "\n"
     ]
    },
    {
     "name": "stdin",
     "output_type": "stream",
     "text": [
      "Jugador 1: Columna -->  4\n"
     ]
    },
    {
     "name": "stdout",
     "output_type": "stream",
     "text": [
      "0  1  2  3  4  \n",
      "*  *  *  *  *  \n",
      "*  *  *  *  *  \n",
      "X  O  X  O  X  \n",
      "O  X  O  X  O  \n",
      "X  X  O  X  X  \n",
      "X  O  O  X  O  \n",
      "\n"
     ]
    },
    {
     "name": "stdin",
     "output_type": "stream",
     "text": [
      "Jugador 2: Columna -->  1\n"
     ]
    },
    {
     "name": "stdout",
     "output_type": "stream",
     "text": [
      "0  1  2  3  4  \n",
      "*  *  *  *  *  \n",
      "*  O  *  *  *  \n",
      "X  O  X  O  X  \n",
      "O  X  O  X  O  \n",
      "X  X  O  X  X  \n",
      "X  O  O  X  O  \n",
      "\n"
     ]
    },
    {
     "name": "stdin",
     "output_type": "stream",
     "text": [
      "Jugador 1: Columna -->  0\n"
     ]
    },
    {
     "name": "stdout",
     "output_type": "stream",
     "text": [
      "0  1  2  3  4  \n",
      "*  *  *  *  *  \n",
      "X  O  *  *  *  \n",
      "X  O  X  O  X  \n",
      "O  X  O  X  O  \n",
      "X  X  O  X  X  \n",
      "X  O  O  X  O  \n",
      "\n"
     ]
    },
    {
     "name": "stdin",
     "output_type": "stream",
     "text": [
      "Jugador 2: Columna -->  2\n"
     ]
    },
    {
     "name": "stdout",
     "output_type": "stream",
     "text": [
      "0  1  2  3  4  \n",
      "*  *  *  *  *  \n",
      "X  O  O  *  *  \n",
      "X  O  X  O  X  \n",
      "O  X  O  X  O  \n",
      "X  X  O  X  X  \n",
      "X  O  O  X  O  \n",
      "\n"
     ]
    },
    {
     "name": "stdin",
     "output_type": "stream",
     "text": [
      "Jugador 1: Columna -->  1\n"
     ]
    },
    {
     "name": "stdout",
     "output_type": "stream",
     "text": [
      "0  1  2  3  4  \n",
      "*  X  *  *  *  \n",
      "X  O  O  *  *  \n",
      "X  O  X  O  X  \n",
      "O  X  O  X  O  \n",
      "X  X  O  X  X  \n",
      "X  O  O  X  O  \n",
      "\n"
     ]
    },
    {
     "name": "stdin",
     "output_type": "stream",
     "text": [
      "Jugador 2: Columna -->  3\n"
     ]
    },
    {
     "name": "stdout",
     "output_type": "stream",
     "text": [
      "0  1  2  3  4  \n",
      "*  X  *  *  *  \n",
      "X  O  O  O  *  \n",
      "X  O  X  O  X  \n",
      "O  X  O  X  O  \n",
      "X  X  O  X  X  \n",
      "X  O  O  X  O  \n",
      "\n"
     ]
    },
    {
     "name": "stdin",
     "output_type": "stream",
     "text": [
      "Jugador 1: Columna -->  4\n"
     ]
    },
    {
     "name": "stdout",
     "output_type": "stream",
     "text": [
      "0  1  2  3  4  \n",
      "*  X  *  *  *  \n",
      "X  O  O  O  X  \n",
      "X  O  X  O  X  \n",
      "O  X  O  X  O  \n",
      "X  X  O  X  X  \n",
      "X  O  O  X  O  \n",
      "\n"
     ]
    },
    {
     "name": "stdin",
     "output_type": "stream",
     "text": [
      "Jugador 2: Columna -->  0\n"
     ]
    },
    {
     "name": "stdout",
     "output_type": "stream",
     "text": [
      "0  1  2  3  4  \n",
      "O  X  *  *  *  \n",
      "X  O  O  O  X  \n",
      "X  O  X  O  X  \n",
      "O  X  O  X  O  \n",
      "X  X  O  X  X  \n",
      "X  O  O  X  O  \n",
      "\n"
     ]
    },
    {
     "name": "stdin",
     "output_type": "stream",
     "text": [
      "Jugador 1: Columna -->  2\n"
     ]
    },
    {
     "name": "stdout",
     "output_type": "stream",
     "text": [
      "0  1  2  3  4  \n",
      "O  X  X  *  *  \n",
      "X  O  O  O  X  \n",
      "X  O  X  O  X  \n",
      "O  X  O  X  O  \n",
      "X  X  O  X  X  \n",
      "X  O  O  X  O  \n",
      "\n"
     ]
    },
    {
     "name": "stdin",
     "output_type": "stream",
     "text": [
      "Jugador 2: Columna -->  3\n"
     ]
    },
    {
     "name": "stdout",
     "output_type": "stream",
     "text": [
      "0  1  2  3  4  \n",
      "O  X  X  O  *  \n",
      "X  O  O  O  X  \n",
      "X  O  X  O  X  \n",
      "O  X  O  X  O  \n",
      "X  X  O  X  X  \n",
      "X  O  O  X  O  \n",
      "\n",
      "¡El ganador es: O!\n",
      "Tablero reiniciado, para volver a jugar, crea otro tablero!\n",
      " \n",
      "\n",
      "1) Choose your tokens\n",
      "2) Stablish a game board\n",
      "3) Start game\n",
      "4) Exit the game\n",
      "\n",
      "\n"
     ]
    },
    {
     "name": "stdin",
     "output_type": "stream",
     "text": [
      "Opcion -->  2\n"
     ]
    },
    {
     "name": "stdout",
     "output_type": "stream",
     "text": [
      "Haz un tablero de juego!\n"
     ]
    },
    {
     "name": "stdin",
     "output_type": "stream",
     "text": [
      "Ingresa las filas -->  4\n",
      "Ingresa las columnas -->  4\n"
     ]
    },
    {
     "name": "stdout",
     "output_type": "stream",
     "text": [
      "\n",
      "\n",
      "------Tablero creado.....\n",
      "\n",
      "\n",
      "0  1  2  3  \n",
      "*  *  *  *  \n",
      "*  *  *  *  \n",
      "*  *  *  *  \n",
      "*  *  *  *  \n",
      "\n",
      " \n",
      "\n",
      "1) Choose your tokens\n",
      "2) Stablish a game board\n",
      "3) Start game\n",
      "4) Exit the game\n",
      "\n",
      "\n"
     ]
    },
    {
     "name": "stdin",
     "output_type": "stream",
     "text": [
      "Opcion -->  0\n"
     ]
    },
    {
     "name": "stdout",
     "output_type": "stream",
     "text": [
      "No es una opción\n",
      " \n",
      "\n",
      "1) Choose your tokens\n",
      "2) Stablish a game board\n",
      "3) Start game\n",
      "4) Exit the game\n",
      "\n",
      "\n"
     ]
    },
    {
     "name": "stdin",
     "output_type": "stream",
     "text": [
      "Opcion -->  3\n",
      "Jugador 1: Columna -->  0\n"
     ]
    },
    {
     "name": "stdout",
     "output_type": "stream",
     "text": [
      "0  1  2  3  \n",
      "*  *  *  *  \n",
      "*  *  *  *  \n",
      "*  *  *  *  \n",
      "X  *  *  *  \n",
      "\n"
     ]
    },
    {
     "name": "stdin",
     "output_type": "stream",
     "text": [
      "Jugador 2: Columna -->  1\n"
     ]
    },
    {
     "name": "stdout",
     "output_type": "stream",
     "text": [
      "0  1  2  3  \n",
      "*  *  *  *  \n",
      "*  *  *  *  \n",
      "*  *  *  *  \n",
      "X  O  *  *  \n",
      "\n"
     ]
    },
    {
     "name": "stdin",
     "output_type": "stream",
     "text": [
      "Jugador 1: Columna -->  2\n"
     ]
    },
    {
     "name": "stdout",
     "output_type": "stream",
     "text": [
      "0  1  2  3  \n",
      "*  *  *  *  \n",
      "*  *  *  *  \n",
      "*  *  *  *  \n",
      "X  O  X  *  \n",
      "\n"
     ]
    },
    {
     "name": "stdin",
     "output_type": "stream",
     "text": [
      "Jugador 2: Columna -->  3\n"
     ]
    },
    {
     "name": "stdout",
     "output_type": "stream",
     "text": [
      "0  1  2  3  \n",
      "*  *  *  *  \n",
      "*  *  *  *  \n",
      "*  *  *  *  \n",
      "X  O  X  O  \n",
      "\n"
     ]
    },
    {
     "name": "stdin",
     "output_type": "stream",
     "text": [
      "Jugador 1: Columna -->  0\n"
     ]
    },
    {
     "name": "stdout",
     "output_type": "stream",
     "text": [
      "0  1  2  3  \n",
      "*  *  *  *  \n",
      "*  *  *  *  \n",
      "X  *  *  *  \n",
      "X  O  X  O  \n",
      "\n"
     ]
    },
    {
     "name": "stdin",
     "output_type": "stream",
     "text": [
      "Jugador 2: Columna -->  1\n"
     ]
    },
    {
     "name": "stdout",
     "output_type": "stream",
     "text": [
      "0  1  2  3  \n",
      "*  *  *  *  \n",
      "*  *  *  *  \n",
      "X  O  *  *  \n",
      "X  O  X  O  \n",
      "\n"
     ]
    },
    {
     "name": "stdin",
     "output_type": "stream",
     "text": [
      "Jugador 1: Columna -->  2\n"
     ]
    },
    {
     "name": "stdout",
     "output_type": "stream",
     "text": [
      "0  1  2  3  \n",
      "*  *  *  *  \n",
      "*  *  *  *  \n",
      "X  O  X  *  \n",
      "X  O  X  O  \n",
      "\n"
     ]
    },
    {
     "name": "stdin",
     "output_type": "stream",
     "text": [
      "Jugador 2: Columna -->  3\n"
     ]
    },
    {
     "name": "stdout",
     "output_type": "stream",
     "text": [
      "0  1  2  3  \n",
      "*  *  *  *  \n",
      "*  *  *  *  \n",
      "X  O  X  O  \n",
      "X  O  X  O  \n",
      "\n"
     ]
    },
    {
     "name": "stdin",
     "output_type": "stream",
     "text": [
      "Jugador 1: Columna -->  1\n"
     ]
    },
    {
     "name": "stdout",
     "output_type": "stream",
     "text": [
      "0  1  2  3  \n",
      "*  *  *  *  \n",
      "*  X  *  *  \n",
      "X  O  X  O  \n",
      "X  O  X  O  \n",
      "\n"
     ]
    },
    {
     "name": "stdin",
     "output_type": "stream",
     "text": [
      "Jugador 2: Columna -->  0\n"
     ]
    },
    {
     "name": "stdout",
     "output_type": "stream",
     "text": [
      "0  1  2  3  \n",
      "*  *  *  *  \n",
      "O  X  *  *  \n",
      "X  O  X  O  \n",
      "X  O  X  O  \n",
      "\n"
     ]
    },
    {
     "name": "stdin",
     "output_type": "stream",
     "text": [
      "Jugador 1: Columna -->  2\n"
     ]
    },
    {
     "name": "stdout",
     "output_type": "stream",
     "text": [
      "0  1  2  3  \n",
      "*  *  *  *  \n",
      "O  X  X  *  \n",
      "X  O  X  O  \n",
      "X  O  X  O  \n",
      "\n"
     ]
    },
    {
     "name": "stdin",
     "output_type": "stream",
     "text": [
      "Jugador 2: Columna -->  1\n"
     ]
    },
    {
     "name": "stdout",
     "output_type": "stream",
     "text": [
      "0  1  2  3  \n",
      "*  O  *  *  \n",
      "O  X  X  *  \n",
      "X  O  X  O  \n",
      "X  O  X  O  \n",
      "\n"
     ]
    },
    {
     "name": "stdin",
     "output_type": "stream",
     "text": [
      "Jugador 1: Columna -->  3\n"
     ]
    },
    {
     "name": "stdout",
     "output_type": "stream",
     "text": [
      "0  1  2  3  \n",
      "*  O  *  *  \n",
      "O  X  X  X  \n",
      "X  O  X  O  \n",
      "X  O  X  O  \n",
      "\n"
     ]
    },
    {
     "name": "stdin",
     "output_type": "stream",
     "text": [
      "Jugador 2: Columna -->  0\n"
     ]
    },
    {
     "name": "stdout",
     "output_type": "stream",
     "text": [
      "0  1  2  3  \n",
      "O  O  *  *  \n",
      "O  X  X  X  \n",
      "X  O  X  O  \n",
      "X  O  X  O  \n",
      "\n"
     ]
    },
    {
     "name": "stdin",
     "output_type": "stream",
     "text": [
      "Jugador 1: Columna -->  2\n"
     ]
    },
    {
     "name": "stdout",
     "output_type": "stream",
     "text": [
      "0  1  2  3  \n",
      "O  O  X  *  \n",
      "O  X  X  X  \n",
      "X  O  X  O  \n",
      "X  O  X  O  \n",
      "\n",
      "¡El ganador es: X!\n",
      "Tablero reiniciado, para volver a jugar, crea otro tablero!\n",
      " \n",
      "\n",
      "1) Choose your tokens\n",
      "2) Stablish a game board\n",
      "3) Start game\n",
      "4) Exit the game\n",
      "\n",
      "\n"
     ]
    },
    {
     "name": "stdin",
     "output_type": "stream",
     "text": [
      "Opcion -->  2\n"
     ]
    },
    {
     "name": "stdout",
     "output_type": "stream",
     "text": [
      "Haz un tablero de juego!\n"
     ]
    },
    {
     "name": "stdin",
     "output_type": "stream",
     "text": [
      "Ingresa las filas -->  3\n",
      "Ingresa las columnas -->  4\n"
     ]
    },
    {
     "name": "stdout",
     "output_type": "stream",
     "text": [
      "No puede haber menos de 4 filas ni 4 columnas\n"
     ]
    },
    {
     "name": "stdin",
     "output_type": "stream",
     "text": [
      "Ingresa las filas -->  4\n",
      "Ingresa las columnas -->  4\n"
     ]
    },
    {
     "name": "stdout",
     "output_type": "stream",
     "text": [
      "\n",
      "\n",
      "------Tablero creado.....\n",
      "\n",
      "\n",
      "0  1  2  3  \n",
      "*  *  *  *  \n",
      "*  *  *  *  \n",
      "*  *  *  *  \n",
      "*  *  *  *  \n",
      "\n",
      " \n",
      "\n",
      "1) Choose your tokens\n",
      "2) Stablish a game board\n",
      "3) Start game\n",
      "4) Exit the game\n",
      "\n",
      "\n"
     ]
    },
    {
     "name": "stdin",
     "output_type": "stream",
     "text": [
      "Opcion -->  0\n"
     ]
    },
    {
     "name": "stdout",
     "output_type": "stream",
     "text": [
      "No es una opción\n",
      " \n",
      "\n",
      "1) Choose your tokens\n",
      "2) Stablish a game board\n",
      "3) Start game\n",
      "4) Exit the game\n",
      "\n",
      "\n"
     ]
    },
    {
     "name": "stdin",
     "output_type": "stream",
     "text": [
      "Opcion -->  3\n",
      "Jugador 1: Columna -->  0\n"
     ]
    },
    {
     "name": "stdout",
     "output_type": "stream",
     "text": [
      "0  1  2  3  \n",
      "*  *  *  *  \n",
      "*  *  *  *  \n",
      "*  *  *  *  \n",
      "X  *  *  *  \n",
      "\n"
     ]
    },
    {
     "name": "stdin",
     "output_type": "stream",
     "text": [
      "Jugador 2: Columna -->  1\n"
     ]
    },
    {
     "name": "stdout",
     "output_type": "stream",
     "text": [
      "0  1  2  3  \n",
      "*  *  *  *  \n",
      "*  *  *  *  \n",
      "*  *  *  *  \n",
      "X  O  *  *  \n",
      "\n"
     ]
    },
    {
     "name": "stdin",
     "output_type": "stream",
     "text": [
      "Jugador 1: Columna -->  0\n"
     ]
    },
    {
     "name": "stdout",
     "output_type": "stream",
     "text": [
      "0  1  2  3  \n",
      "*  *  *  *  \n",
      "*  *  *  *  \n",
      "X  *  *  *  \n",
      "X  O  *  *  \n",
      "\n"
     ]
    },
    {
     "name": "stdin",
     "output_type": "stream",
     "text": [
      "Jugador 2: Columna -->  1\n"
     ]
    },
    {
     "name": "stdout",
     "output_type": "stream",
     "text": [
      "0  1  2  3  \n",
      "*  *  *  *  \n",
      "*  *  *  *  \n",
      "X  O  *  *  \n",
      "X  O  *  *  \n",
      "\n"
     ]
    },
    {
     "name": "stdin",
     "output_type": "stream",
     "text": [
      "Jugador 1: Columna -->  0\n"
     ]
    },
    {
     "name": "stdout",
     "output_type": "stream",
     "text": [
      "0  1  2  3  \n",
      "*  *  *  *  \n",
      "X  *  *  *  \n",
      "X  O  *  *  \n",
      "X  O  *  *  \n",
      "\n"
     ]
    },
    {
     "name": "stdin",
     "output_type": "stream",
     "text": [
      "Jugador 2: Columna -->  0\n"
     ]
    },
    {
     "name": "stdout",
     "output_type": "stream",
     "text": [
      "0  1  2  3  \n",
      "O  *  *  *  \n",
      "X  *  *  *  \n",
      "X  O  *  *  \n",
      "X  O  *  *  \n",
      "\n"
     ]
    },
    {
     "name": "stdin",
     "output_type": "stream",
     "text": [
      "Jugador 1: Columna -->  0\n"
     ]
    },
    {
     "name": "stdout",
     "output_type": "stream",
     "text": [
      "0  1  2  3  \n",
      "O  *  *  *  \n",
      "X  *  *  *  \n",
      "X  O  *  *  \n",
      "X  O  *  *  \n",
      "\n"
     ]
    },
    {
     "name": "stdin",
     "output_type": "stream",
     "text": [
      "Jugador 2: Columna -->  0\n"
     ]
    },
    {
     "name": "stdout",
     "output_type": "stream",
     "text": [
      "0  1  2  3  \n",
      "O  *  *  *  \n",
      "X  *  *  *  \n",
      "X  O  *  *  \n",
      "X  O  *  *  \n",
      "\n"
     ]
    },
    {
     "name": "stdin",
     "output_type": "stream",
     "text": [
      "Jugador 1: Columna -->  1\n"
     ]
    },
    {
     "name": "stdout",
     "output_type": "stream",
     "text": [
      "0  1  2  3  \n",
      "O  *  *  *  \n",
      "X  X  *  *  \n",
      "X  O  *  *  \n",
      "X  O  *  *  \n",
      "\n"
     ]
    },
    {
     "name": "stdin",
     "output_type": "stream",
     "text": [
      "Jugador 2: Columna -->  1\n"
     ]
    },
    {
     "name": "stdout",
     "output_type": "stream",
     "text": [
      "0  1  2  3  \n",
      "O  O  *  *  \n",
      "X  X  *  *  \n",
      "X  O  *  *  \n",
      "X  O  *  *  \n",
      "\n"
     ]
    },
    {
     "name": "stdin",
     "output_type": "stream",
     "text": [
      "Jugador 1: Columna -->  2\n"
     ]
    },
    {
     "name": "stdout",
     "output_type": "stream",
     "text": [
      "0  1  2  3  \n",
      "O  O  *  *  \n",
      "X  X  *  *  \n",
      "X  O  *  *  \n",
      "X  O  X  *  \n",
      "\n"
     ]
    },
    {
     "name": "stdin",
     "output_type": "stream",
     "text": [
      "Jugador 2: Columna -->  2\n"
     ]
    },
    {
     "name": "stdout",
     "output_type": "stream",
     "text": [
      "0  1  2  3  \n",
      "O  O  *  *  \n",
      "X  X  *  *  \n",
      "X  O  O  *  \n",
      "X  O  X  *  \n",
      "\n"
     ]
    },
    {
     "name": "stdin",
     "output_type": "stream",
     "text": [
      "Jugador 1: Columna -->  2\n"
     ]
    },
    {
     "name": "stdout",
     "output_type": "stream",
     "text": [
      "0  1  2  3  \n",
      "O  O  *  *  \n",
      "X  X  X  *  \n",
      "X  O  O  *  \n",
      "X  O  X  *  \n",
      "\n"
     ]
    },
    {
     "name": "stdin",
     "output_type": "stream",
     "text": [
      "Jugador 2: Columna -->  2\n"
     ]
    },
    {
     "name": "stdout",
     "output_type": "stream",
     "text": [
      "0  1  2  3  \n",
      "O  O  O  *  \n",
      "X  X  X  *  \n",
      "X  O  O  *  \n",
      "X  O  X  *  \n",
      "\n"
     ]
    },
    {
     "name": "stdin",
     "output_type": "stream",
     "text": [
      "Jugador 1: Columna -->  3\n"
     ]
    },
    {
     "name": "stdout",
     "output_type": "stream",
     "text": [
      "0  1  2  3  \n",
      "O  O  O  *  \n",
      "X  X  X  *  \n",
      "X  O  O  *  \n",
      "X  O  X  X  \n",
      "\n"
     ]
    },
    {
     "name": "stdin",
     "output_type": "stream",
     "text": [
      "Jugador 2: Columna -->  3\n"
     ]
    },
    {
     "name": "stdout",
     "output_type": "stream",
     "text": [
      "0  1  2  3  \n",
      "O  O  O  *  \n",
      "X  X  X  *  \n",
      "X  O  O  O  \n",
      "X  O  X  X  \n",
      "\n"
     ]
    },
    {
     "name": "stdin",
     "output_type": "stream",
     "text": [
      "Jugador 1: Columna -->  3\n"
     ]
    },
    {
     "name": "stdout",
     "output_type": "stream",
     "text": [
      "0  1  2  3  \n",
      "O  O  O  *  \n",
      "X  X  X  X  \n",
      "X  O  O  O  \n",
      "X  O  X  X  \n",
      "\n",
      "¡El ganador es: X!\n",
      "Tablero reiniciado, para volver a jugar, crea otro tablero!\n",
      " \n",
      "\n",
      "1) Choose your tokens\n",
      "2) Stablish a game board\n",
      "3) Start game\n",
      "4) Exit the game\n",
      "\n",
      "\n"
     ]
    },
    {
     "name": "stdin",
     "output_type": "stream",
     "text": [
      "Opcion -->  4\n"
     ]
    },
    {
     "name": "stdout",
     "output_type": "stream",
     "text": [
      "Hasta luego!!\n"
     ]
    }
   ],
   "source": [
    "main()"
   ]
  }
 ],
 "metadata": {
  "kernelspec": {
   "display_name": "Python 3 (ipykernel)",
   "language": "python",
   "name": "python3"
  },
  "language_info": {
   "codemirror_mode": {
    "name": "ipython",
    "version": 3
   },
   "file_extension": ".py",
   "mimetype": "text/x-python",
   "name": "python",
   "nbconvert_exporter": "python",
   "pygments_lexer": "ipython3",
   "version": "3.12.7"
  }
 },
 "nbformat": 4,
 "nbformat_minor": 5
}
